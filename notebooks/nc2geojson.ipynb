{
 "cells": [
  {
   "cell_type": "code",
   "execution_count": 3,
   "metadata": {},
   "outputs": [],
   "source": [
    "import netCDF4\n",
    "import json\n",
    "import geojson\n",
    "import numpy as np\n",
    "import pandas"
   ]
  },
  {
   "cell_type": "code",
   "execution_count": 4,
   "metadata": {},
   "outputs": [],
   "source": [
    "filename = \"data/TRANSPORT_coast_wadden.nc\""
   ]
  },
  {
   "cell_type": "code",
   "execution_count": 5,
   "metadata": {},
   "outputs": [],
   "source": [
    "ds = netCDF4.Dataset(filename)"
   ]
  },
  {
   "cell_type": "code",
   "execution_count": 20,
   "metadata": {},
   "outputs": [
    {
     "data": {
      "text/plain": [
       "masked_array(data=1502755200.0,\n",
       "             mask=False,\n",
       "       fill_value=9.969209968386869e+36)"
      ]
     },
     "execution_count": 20,
     "metadata": {},
     "output_type": "execute_result"
    }
   ],
   "source": [
    "ds.variables['time'][0]"
   ]
  },
  {
   "cell_type": "code",
   "execution_count": 135,
   "metadata": {},
   "outputs": [
    {
     "data": {
      "text/plain": [
       "datetime.datetime(2017, 8, 15, 0, 0)"
      ]
     },
     "execution_count": 135,
     "metadata": {},
     "output_type": "execute_result"
    }
   ],
   "source": [
    "netCDF4.num2date(ds.variables['time'][0], 'seconds since 1970-01-01 00:00:00 0:00')"
   ]
  },
  {
   "cell_type": "code",
   "execution_count": 21,
   "metadata": {},
   "outputs": [],
   "source": [
    "ds = netCDF4.Dataset(filename)\n",
    "\n",
    "def nc2feature(ind):\n",
    "    variables = {\n",
    "        'lat': {\"var\": 'lat', \"slice\": np.s_[ind]},\n",
    "        'lon': {\"var\": 'lon', \"slice\": np.s_[ind]},\n",
    "        'index': {\"var\": 'QSnet', \"slice\": np.s_[ind]},\n",
    "    }\n",
    "    data = {}\n",
    "    for var, props in variables.items():\n",
    "        data[var] = ds.variables[props['var']][props['slice']]\n",
    "        \n",
    "    angle = ds.variables['cstangle'][ind]\n",
    "    neg = (ds.variables['QSnet'][ind] < 0) * 180\n",
    "    angle += neg\n",
    "    data['angle'] = angle\n",
    "    \n",
    "    coords = [data['lon'].tolist(), data['lat'].tolist()]\n",
    "    geometry = geojson.Point(coordinates=coords)\n",
    "    date = netCDF4.num2date(ds.variables['time'][ind], 'seconds since 1970-01-01 00:00:00 0:00')\n",
    "    properties = {\n",
    "        \"date\": date.isoformat(),\n",
    "        \"year\": date.year, \n",
    "        \"angle\": data['angle'].tolist(),\n",
    "        \"index\": data['index'].tolist()\n",
    "    }\n",
    "    return geojson.Feature(id=\"point_\" + str(ind), geometry=geometry, properties=properties)"
   ]
  },
  {
   "cell_type": "code",
   "execution_count": 22,
   "metadata": {},
   "outputs": [
    {
     "data": {
      "application/vnd.jupyter.widget-view+json": {
       "model_id": "c1648f4aaf73443b85b6219309351e79",
       "version_major": 2,
       "version_minor": 0
      },
      "text/plain": [
       "HBox(children=(IntProgress(value=0, max=36), HTML(value='')))"
      ]
     },
     "metadata": {},
     "output_type": "display_data"
    },
    {
     "name": "stdout",
     "output_type": "stream",
     "text": [
      "\n"
     ]
    }
   ],
   "source": [
    "import itertools\n",
    "import more_itertools\n",
    "import tqdm\n",
    "\n",
    "features = []\n",
    "for ind in tqdm.tqdm_notebook(range(ds.dimensions['obs'].size)):\n",
    "    features.append(nc2feature(ind))"
   ]
  },
  {
   "cell_type": "code",
   "execution_count": 23,
   "metadata": {},
   "outputs": [],
   "source": [
    "collection = geojson.FeatureCollection(features)\n",
    "with open('testdata.json', 'w') as f:\n",
    "    geojson.dump(collection, f)"
   ]
  },
  {
   "cell_type": "code",
   "execution_count": null,
   "metadata": {},
   "outputs": [],
   "source": []
  }
 ],
 "metadata": {
  "kernelspec": {
   "display_name": "Python 3",
   "language": "python",
   "name": "python3"
  },
  "language_info": {
   "codemirror_mode": {
    "name": "ipython",
    "version": 3
   },
   "file_extension": ".py",
   "mimetype": "text/x-python",
   "name": "python",
   "nbconvert_exporter": "python",
   "pygments_lexer": "ipython3",
   "version": "3.6.5"
  }
 },
 "nbformat": 4,
 "nbformat_minor": 2
}
